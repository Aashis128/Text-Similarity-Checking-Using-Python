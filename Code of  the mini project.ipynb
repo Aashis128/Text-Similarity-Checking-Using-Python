{
 "cells": [
  {
   "cell_type": "code",
   "execution_count": 1,
   "id": "5f6cd603",
   "metadata": {},
   "outputs": [],
   "source": [
    "#import libraries\n",
    "import math\n",
    "import numpy as np\n",
    "import pandas as pd\n",
    "import nltk\n",
    "from nltk.corpus import stopwords\n",
    "from nltk.stem import PorterStemmer\n",
    "from num2words import num2words\n",
    "from nltk.tokenize import word_tokenize"
   ]
  },
  {
   "cell_type": "code",
   "execution_count": 2,
   "id": "3d699ff1",
   "metadata": {},
   "outputs": [
    {
     "name": "stdout",
     "output_type": "stream",
     "text": [
      "C:\\Users\\dkish\\OneDrive\\Desktop\\Text Similarity Check\\doc1.txt\n",
      "C:\\Users\\dkish\\OneDrive\\Desktop\\Text Similarity Check\\doc2.txt\n",
      "C:\\Users\\dkish\\OneDrive\\Desktop\\Text Similarity Check\\doc3.txt\n",
      "C:\\Users\\dkish\\OneDrive\\Desktop\\Text Similarity Check\\doc4.txt\n"
     ]
    }
   ],
   "source": [
    "# Import Module\n",
    "import os\n",
    "\n",
    "# Folder Path\n",
    "path = r\"C:\\Users\\dkish\\OneDrive\\Desktop\\Text Similarity Check\"\n",
    "\n",
    "# Change the directory\n",
    "os.chdir(path)\n",
    "\n",
    "# Read text File\n",
    "doc_list = []\n",
    "\n",
    "def read_text_file(file_path):\n",
    "    with open(file_path, 'r') as f:\n",
    "        doc_list.append(f.read())\n",
    "        \n",
    "# iterate through all file\n",
    "column_name = []\n",
    "\n",
    "for file in os.listdir():\n",
    "    # Check whether file is in text format or not\n",
    "    file_name = file.split(\".\")\n",
    "    column_name.append(file_name[0])\n",
    "    \n",
    "    if file.endswith(\".txt\"):\n",
    "        file_path = f\"{path}\\{file}\"\n",
    "        print(file_path)\n",
    "        \n",
    "        # call read text file function\n",
    "        read_text_file(file_path)"
   ]
  },
  {
   "cell_type": "code",
   "execution_count": 3,
   "id": "9c83c0d9",
   "metadata": {},
   "outputs": [
    {
     "data": {
      "text/plain": [
       "['The best Italian restaurant enjoy the best pasta.',\n",
       " 'American restaurant enjoy the best hamburger.',\n",
       " 'Korean restaurant enjoy the best bibimbap.',\n",
       " 'The best the best American restaurant.']"
      ]
     },
     "execution_count": 3,
     "metadata": {},
     "output_type": "execute_result"
    }
   ],
   "source": [
    "doc_list"
   ]
  },
  {
   "cell_type": "code",
   "execution_count": 4,
   "id": "3039544d",
   "metadata": {},
   "outputs": [
    {
     "data": {
      "text/plain": [
       "['doc1', 'doc2', 'doc3', 'doc4']"
      ]
     },
     "execution_count": 4,
     "metadata": {},
     "output_type": "execute_result"
    }
   ],
   "source": [
    "column_name"
   ]
  },
  {
   "cell_type": "markdown",
   "id": "905eab8b",
   "metadata": {},
   "source": [
    "# PREPROCESSING"
   ]
  },
  {
   "cell_type": "markdown",
   "id": "b3c9845e",
   "metadata": {},
   "source": [
    "LOWERCASE"
   ]
  },
  {
   "cell_type": "code",
   "execution_count": 5,
   "id": "c6e90b7d",
   "metadata": {},
   "outputs": [],
   "source": [
    "def convert_lower_case(data_list):\n",
    "    doc_list = []\n",
    "    for doc in data_list:\n",
    "        doc = str(np.char.lower(doc))\n",
    "        doc_list.append(doc)\n",
    "    return(doc_list)"
   ]
  },
  {
   "cell_type": "markdown",
   "id": "ded9a3ab",
   "metadata": {},
   "source": [
    "PUNCTUATION"
   ]
  },
  {
   "cell_type": "code",
   "execution_count": 6,
   "id": "c7fe4fed",
   "metadata": {},
   "outputs": [],
   "source": [
    "def remove_punctuation(data_list):\n",
    "    doc_list = []\n",
    "    symbols = \"!\\\"#$%&()*+-./:;<=>?@[\\]^_`{|}~\\n\"\n",
    "    \n",
    "    for doc in data_list:\n",
    "        for i in symbols:\n",
    "            doc = str(np.char.replace(doc, i, ' '))\n",
    "        doc_list.append(doc)\n",
    "    return doc_list"
   ]
  },
  {
   "cell_type": "markdown",
   "id": "0ee2f119",
   "metadata": {},
   "source": [
    "APOSTROPHE"
   ]
  },
  {
   "cell_type": "code",
   "execution_count": 7,
   "id": "75444fa8",
   "metadata": {},
   "outputs": [],
   "source": [
    "def remove_apostrophe(data_list):\n",
    "    doc_list = []\n",
    "    for doc in data_list:\n",
    "        doc = str(np.char.replace(doc, \"'\", \"\"))\n",
    "        doc_list.append(doc)\n",
    "    return doc_list"
   ]
  },
  {
   "cell_type": "markdown",
   "id": "61aab307",
   "metadata": {},
   "source": [
    "SINGLE CHARACTERS"
   ]
  },
  {
   "cell_type": "code",
   "execution_count": 8,
   "id": "2ec42dc0",
   "metadata": {},
   "outputs": [],
   "source": [
    "def remove_single_characters(data_list):\n",
    "    \n",
    "    doc_list = []\n",
    "    single_word_list = []\n",
    "    \n",
    "    for doc in data_list:\n",
    "        text_tokens = str(doc).split(\" \")\n",
    "        for w in text_tokens:\n",
    "            if len(w) < 2:\n",
    "                single_word_list.append(w)\n",
    "        tokens_without_sw = [word for word in text_tokens if not word in single_word_list]\n",
    "        filtered_sentence = (\" \").join(tokens_without_sw)\n",
    "        doc_list.append(filtered_sentence)\n",
    "    return(doc_list)"
   ]
  },
  {
   "cell_type": "markdown",
   "id": "c05b9ebc",
   "metadata": {},
   "source": [
    "CONVERT NUMBERS"
   ]
  },
  {
   "cell_type": "code",
   "execution_count": 9,
   "id": "7c03991a",
   "metadata": {},
   "outputs": [],
   "source": [
    "def convert_numbers(data_list):\n",
    "    \n",
    "    doc_list = []\n",
    "    for doc in data_list:\n",
    "        for num in str(doc).split(\" \"):\n",
    "            if num.isdigit():\n",
    "                doc = str(np.char.replace(doc,num,num2words(num)))\n",
    "        doc_list.append(doc)\n",
    "    return doc_list"
   ]
  },
  {
   "cell_type": "markdown",
   "id": "6f91ac72",
   "metadata": {},
   "source": [
    "STOP WORDS"
   ]
  },
  {
   "cell_type": "code",
   "execution_count": 10,
   "id": "eaf8f81b",
   "metadata": {},
   "outputs": [],
   "source": [
    "def remove_stop_words(data_list):\n",
    "    stop_words = stopwords.words('english')\n",
    "    \n",
    "    doc_list = []\n",
    "    for doc in data_list:\n",
    "        text_tokens = str(doc).split(\" \")\n",
    "        tokens_without_sw = [word for word in text_tokens if not word in stop_words]\n",
    "        filtered_sentence = (\" \").join(tokens_without_sw)\n",
    "        doc_list.append(filtered_sentence)\n",
    "    return doc_list"
   ]
  },
  {
   "cell_type": "markdown",
   "id": "ac066e5e",
   "metadata": {},
   "source": [
    "STEMMING"
   ]
  },
  {
   "cell_type": "code",
   "execution_count": 11,
   "id": "167c2fe5",
   "metadata": {},
   "outputs": [],
   "source": [
    "def stemming(data_list):\n",
    "    porter = PorterStemmer()\n",
    "    \n",
    "    doc_list = []\n",
    "    for doc in data_list:\n",
    "        for word in str(doc).split(\" \"):\n",
    "            doc = str(np.char.replace(doc,word,porter.stem(word)))\n",
    "        doc_list.append(doc)\n",
    "    return (doc_list)"
   ]
  },
  {
   "cell_type": "code",
   "execution_count": null,
   "id": "31e6002f",
   "metadata": {},
   "outputs": [],
   "source": []
  },
  {
   "cell_type": "code",
   "execution_count": 12,
   "id": "21d04eb7",
   "metadata": {},
   "outputs": [],
   "source": [
    "def preprocess(data):\n",
    "    data = convert_lower_case(data)\n",
    "    data = remove_punctuation(data)\n",
    "    data = remove_apostrophe(data)\n",
    "    data = remove_single_characters(data)\n",
    "    data = convert_numbers(data)\n",
    "    data = remove_stop_words(data)\n",
    "    data = stemming(data)\n",
    "    data = remove_punctuation(data)\n",
    "    data = convert_numbers(data)\n",
    "    \n",
    "    return data"
   ]
  },
  {
   "cell_type": "code",
   "execution_count": 13,
   "id": "fb939348",
   "metadata": {},
   "outputs": [
    {
     "name": "stdout",
     "output_type": "stream",
     "text": [
      "['best italian restaur enjoy best pasta', 'american restaur enjoy best hamburg', 'korean restaur enjoy best bibimbap', 'best best american restaur']\n"
     ]
    }
   ],
   "source": [
    "data1 = preprocess(doc_list)\n",
    "print(data1)"
   ]
  },
  {
   "cell_type": "markdown",
   "id": "b8a48335",
   "metadata": {},
   "source": [
    "# CALCULATION TF-IDF"
   ]
  },
  {
   "cell_type": "code",
   "execution_count": 14,
   "id": "e49665b5",
   "metadata": {},
   "outputs": [
    {
     "data": {
      "text/plain": [
       "<4x9 sparse matrix of type '<class 'numpy.int64'>'\n",
       "\twith 18 stored elements in Compressed Sparse Row format>"
      ]
     },
     "execution_count": 14,
     "metadata": {},
     "output_type": "execute_result"
    }
   ],
   "source": [
    "from sklearn.feature_extraction.text import CountVectorizer\n",
    "\n",
    "count_vectorizer = CountVectorizer()\n",
    "vector_matrix = count_vectorizer.fit_transform(data1)\n",
    "vector_matrix"
   ]
  },
  {
   "cell_type": "code",
   "execution_count": 15,
   "id": "2f09c952",
   "metadata": {},
   "outputs": [
    {
     "data": {
      "text/plain": [
       "['american',\n",
       " 'best',\n",
       " 'bibimbap',\n",
       " 'enjoy',\n",
       " 'hamburg',\n",
       " 'italian',\n",
       " 'korean',\n",
       " 'pasta',\n",
       " 'restaur']"
      ]
     },
     "execution_count": 15,
     "metadata": {},
     "output_type": "execute_result"
    }
   ],
   "source": [
    "tokens = count_vectorizer.get_feature_names()\n",
    "tokens"
   ]
  },
  {
   "cell_type": "code",
   "execution_count": 16,
   "id": "db337f6f",
   "metadata": {},
   "outputs": [
    {
     "data": {
      "text/plain": [
       "array([[0, 2, 0, 1, 0, 1, 0, 1, 1],\n",
       "       [1, 1, 0, 1, 1, 0, 0, 0, 1],\n",
       "       [0, 1, 1, 1, 0, 0, 1, 0, 1],\n",
       "       [1, 2, 0, 0, 0, 0, 0, 0, 1]], dtype=int64)"
      ]
     },
     "execution_count": 16,
     "metadata": {},
     "output_type": "execute_result"
    }
   ],
   "source": [
    "vector_matrix.toarray()"
   ]
  },
  {
   "cell_type": "code",
   "execution_count": 17,
   "id": "9c0a4010",
   "metadata": {},
   "outputs": [],
   "source": [
    "def create_dataframe(matrix, tokens):\n",
    "\n",
    "    doc_names = [f'doc_{i+1}' for i, _ in enumerate(matrix)]\n",
    "    df = pd.DataFrame(data=matrix, index=doc_names, columns=tokens)\n",
    "    return(df)"
   ]
  },
  {
   "cell_type": "code",
   "execution_count": 18,
   "id": "90ada6a9",
   "metadata": {},
   "outputs": [
    {
     "data": {
      "text/html": [
       "<div>\n",
       "<style scoped>\n",
       "    .dataframe tbody tr th:only-of-type {\n",
       "        vertical-align: middle;\n",
       "    }\n",
       "\n",
       "    .dataframe tbody tr th {\n",
       "        vertical-align: top;\n",
       "    }\n",
       "\n",
       "    .dataframe thead th {\n",
       "        text-align: right;\n",
       "    }\n",
       "</style>\n",
       "<table border=\"1\" class=\"dataframe\">\n",
       "  <thead>\n",
       "    <tr style=\"text-align: right;\">\n",
       "      <th></th>\n",
       "      <th>american</th>\n",
       "      <th>best</th>\n",
       "      <th>bibimbap</th>\n",
       "      <th>enjoy</th>\n",
       "      <th>hamburg</th>\n",
       "      <th>italian</th>\n",
       "      <th>korean</th>\n",
       "      <th>pasta</th>\n",
       "      <th>restaur</th>\n",
       "    </tr>\n",
       "  </thead>\n",
       "  <tbody>\n",
       "    <tr>\n",
       "      <th>doc_1</th>\n",
       "      <td>0</td>\n",
       "      <td>2</td>\n",
       "      <td>0</td>\n",
       "      <td>1</td>\n",
       "      <td>0</td>\n",
       "      <td>1</td>\n",
       "      <td>0</td>\n",
       "      <td>1</td>\n",
       "      <td>1</td>\n",
       "    </tr>\n",
       "    <tr>\n",
       "      <th>doc_2</th>\n",
       "      <td>1</td>\n",
       "      <td>1</td>\n",
       "      <td>0</td>\n",
       "      <td>1</td>\n",
       "      <td>1</td>\n",
       "      <td>0</td>\n",
       "      <td>0</td>\n",
       "      <td>0</td>\n",
       "      <td>1</td>\n",
       "    </tr>\n",
       "    <tr>\n",
       "      <th>doc_3</th>\n",
       "      <td>0</td>\n",
       "      <td>1</td>\n",
       "      <td>1</td>\n",
       "      <td>1</td>\n",
       "      <td>0</td>\n",
       "      <td>0</td>\n",
       "      <td>1</td>\n",
       "      <td>0</td>\n",
       "      <td>1</td>\n",
       "    </tr>\n",
       "    <tr>\n",
       "      <th>doc_4</th>\n",
       "      <td>1</td>\n",
       "      <td>2</td>\n",
       "      <td>0</td>\n",
       "      <td>0</td>\n",
       "      <td>0</td>\n",
       "      <td>0</td>\n",
       "      <td>0</td>\n",
       "      <td>0</td>\n",
       "      <td>1</td>\n",
       "    </tr>\n",
       "  </tbody>\n",
       "</table>\n",
       "</div>"
      ],
      "text/plain": [
       "       american  best  bibimbap  enjoy  hamburg  italian  korean  pasta  \\\n",
       "doc_1         0     2         0      1        0        1       0      1   \n",
       "doc_2         1     1         0      1        1        0       0      0   \n",
       "doc_3         0     1         1      1        0        0       1      0   \n",
       "doc_4         1     2         0      0        0        0       0      0   \n",
       "\n",
       "       restaur  \n",
       "doc_1        1  \n",
       "doc_2        1  \n",
       "doc_3        1  \n",
       "doc_4        1  "
      ]
     },
     "execution_count": 18,
     "metadata": {},
     "output_type": "execute_result"
    }
   ],
   "source": [
    "create_dataframe(vector_matrix.toarray(),tokens)"
   ]
  },
  {
   "cell_type": "code",
   "execution_count": 19,
   "id": "e20a4ffb",
   "metadata": {},
   "outputs": [
    {
     "data": {
      "text/html": [
       "<div>\n",
       "<style scoped>\n",
       "    .dataframe tbody tr th:only-of-type {\n",
       "        vertical-align: middle;\n",
       "    }\n",
       "\n",
       "    .dataframe tbody tr th {\n",
       "        vertical-align: top;\n",
       "    }\n",
       "\n",
       "    .dataframe thead th {\n",
       "        text-align: right;\n",
       "    }\n",
       "</style>\n",
       "<table border=\"1\" class=\"dataframe\">\n",
       "  <thead>\n",
       "    <tr style=\"text-align: right;\">\n",
       "      <th></th>\n",
       "      <th>doc1</th>\n",
       "      <th>doc2</th>\n",
       "      <th>doc3</th>\n",
       "      <th>doc4</th>\n",
       "    </tr>\n",
       "  </thead>\n",
       "  <tbody>\n",
       "    <tr>\n",
       "      <th>doc_1</th>\n",
       "      <td>1.000000</td>\n",
       "      <td>0.632456</td>\n",
       "      <td>0.632456</td>\n",
       "      <td>0.721688</td>\n",
       "    </tr>\n",
       "    <tr>\n",
       "      <th>doc_2</th>\n",
       "      <td>0.632456</td>\n",
       "      <td>1.000000</td>\n",
       "      <td>0.600000</td>\n",
       "      <td>0.730297</td>\n",
       "    </tr>\n",
       "    <tr>\n",
       "      <th>doc_3</th>\n",
       "      <td>0.632456</td>\n",
       "      <td>0.600000</td>\n",
       "      <td>1.000000</td>\n",
       "      <td>0.547723</td>\n",
       "    </tr>\n",
       "    <tr>\n",
       "      <th>doc_4</th>\n",
       "      <td>0.721688</td>\n",
       "      <td>0.730297</td>\n",
       "      <td>0.547723</td>\n",
       "      <td>1.000000</td>\n",
       "    </tr>\n",
       "  </tbody>\n",
       "</table>\n",
       "</div>"
      ],
      "text/plain": [
       "           doc1      doc2      doc3      doc4\n",
       "doc_1  1.000000  0.632456  0.632456  0.721688\n",
       "doc_2  0.632456  1.000000  0.600000  0.730297\n",
       "doc_3  0.632456  0.600000  1.000000  0.547723\n",
       "doc_4  0.721688  0.730297  0.547723  1.000000"
      ]
     },
     "execution_count": 19,
     "metadata": {},
     "output_type": "execute_result"
    }
   ],
   "source": [
    "from sklearn.metrics.pairwise import cosine_similarity\n",
    "\n",
    "cosine_similarity_matrix = cosine_similarity(vector_matrix)\n",
    "\n",
    "create_dataframe(cosine_similarity_matrix,column_name)"
   ]
  },
  {
   "cell_type": "code",
   "execution_count": 20,
   "id": "af587cfe",
   "metadata": {},
   "outputs": [
    {
     "data": {
      "text/html": [
       "<div>\n",
       "<style scoped>\n",
       "    .dataframe tbody tr th:only-of-type {\n",
       "        vertical-align: middle;\n",
       "    }\n",
       "\n",
       "    .dataframe tbody tr th {\n",
       "        vertical-align: top;\n",
       "    }\n",
       "\n",
       "    .dataframe thead th {\n",
       "        text-align: right;\n",
       "    }\n",
       "</style>\n",
       "<table border=\"1\" class=\"dataframe\">\n",
       "  <thead>\n",
       "    <tr style=\"text-align: right;\">\n",
       "      <th></th>\n",
       "      <th>american</th>\n",
       "      <th>best</th>\n",
       "      <th>bibimbap</th>\n",
       "      <th>enjoy</th>\n",
       "      <th>hamburg</th>\n",
       "      <th>italian</th>\n",
       "      <th>korean</th>\n",
       "      <th>pasta</th>\n",
       "      <th>restaur</th>\n",
       "    </tr>\n",
       "  </thead>\n",
       "  <tbody>\n",
       "    <tr>\n",
       "      <th>doc_1</th>\n",
       "      <td>0.000000</td>\n",
       "      <td>0.537595</td>\n",
       "      <td>0.000000</td>\n",
       "      <td>0.328778</td>\n",
       "      <td>0.000000</td>\n",
       "      <td>0.515094</td>\n",
       "      <td>0.000000</td>\n",
       "      <td>0.515094</td>\n",
       "      <td>0.268798</td>\n",
       "    </tr>\n",
       "    <tr>\n",
       "      <th>doc_2</th>\n",
       "      <td>0.491450</td>\n",
       "      <td>0.325285</td>\n",
       "      <td>0.000000</td>\n",
       "      <td>0.397871</td>\n",
       "      <td>0.623342</td>\n",
       "      <td>0.000000</td>\n",
       "      <td>0.000000</td>\n",
       "      <td>0.000000</td>\n",
       "      <td>0.325285</td>\n",
       "    </tr>\n",
       "    <tr>\n",
       "      <th>doc_3</th>\n",
       "      <td>0.000000</td>\n",
       "      <td>0.303722</td>\n",
       "      <td>0.582021</td>\n",
       "      <td>0.371496</td>\n",
       "      <td>0.000000</td>\n",
       "      <td>0.000000</td>\n",
       "      <td>0.582021</td>\n",
       "      <td>0.000000</td>\n",
       "      <td>0.303722</td>\n",
       "    </tr>\n",
       "    <tr>\n",
       "      <th>doc_4</th>\n",
       "      <td>0.559849</td>\n",
       "      <td>0.741117</td>\n",
       "      <td>0.000000</td>\n",
       "      <td>0.000000</td>\n",
       "      <td>0.000000</td>\n",
       "      <td>0.000000</td>\n",
       "      <td>0.000000</td>\n",
       "      <td>0.000000</td>\n",
       "      <td>0.370559</td>\n",
       "    </tr>\n",
       "  </tbody>\n",
       "</table>\n",
       "</div>"
      ],
      "text/plain": [
       "       american      best  bibimbap     enjoy   hamburg   italian    korean  \\\n",
       "doc_1  0.000000  0.537595  0.000000  0.328778  0.000000  0.515094  0.000000   \n",
       "doc_2  0.491450  0.325285  0.000000  0.397871  0.623342  0.000000  0.000000   \n",
       "doc_3  0.000000  0.303722  0.582021  0.371496  0.000000  0.000000  0.582021   \n",
       "doc_4  0.559849  0.741117  0.000000  0.000000  0.000000  0.000000  0.000000   \n",
       "\n",
       "          pasta   restaur  \n",
       "doc_1  0.515094  0.268798  \n",
       "doc_2  0.000000  0.325285  \n",
       "doc_3  0.000000  0.303722  \n",
       "doc_4  0.000000  0.370559  "
      ]
     },
     "execution_count": 20,
     "metadata": {},
     "output_type": "execute_result"
    }
   ],
   "source": [
    "from sklearn.feature_extraction.text import TfidfVectorizer\n",
    "\n",
    "Tfidf_vect = TfidfVectorizer()\n",
    "vector_matrix = Tfidf_vect.fit_transform(data1)\n",
    "\n",
    "tokens = Tfidf_vect.get_feature_names()\n",
    "create_dataframe(vector_matrix.toarray(),tokens)"
   ]
  },
  {
   "cell_type": "code",
   "execution_count": 21,
   "id": "bd70458c",
   "metadata": {},
   "outputs": [
    {
     "data": {
      "text/html": [
       "<div>\n",
       "<style scoped>\n",
       "    .dataframe tbody tr th:only-of-type {\n",
       "        vertical-align: middle;\n",
       "    }\n",
       "\n",
       "    .dataframe tbody tr th {\n",
       "        vertical-align: top;\n",
       "    }\n",
       "\n",
       "    .dataframe thead th {\n",
       "        text-align: right;\n",
       "    }\n",
       "</style>\n",
       "<table border=\"1\" class=\"dataframe\">\n",
       "  <thead>\n",
       "    <tr style=\"text-align: right;\">\n",
       "      <th></th>\n",
       "      <th>doc1</th>\n",
       "      <th>doc2</th>\n",
       "      <th>doc3</th>\n",
       "      <th>doc4</th>\n",
       "    </tr>\n",
       "  </thead>\n",
       "  <tbody>\n",
       "    <tr>\n",
       "      <th>doc_1</th>\n",
       "      <td>1.000000</td>\n",
       "      <td>0.393119</td>\n",
       "      <td>0.367059</td>\n",
       "      <td>0.498026</td>\n",
       "    </tr>\n",
       "    <tr>\n",
       "      <th>doc_2</th>\n",
       "      <td>0.393119</td>\n",
       "      <td>1.000000</td>\n",
       "      <td>0.345401</td>\n",
       "      <td>0.636750</td>\n",
       "    </tr>\n",
       "    <tr>\n",
       "      <th>doc_3</th>\n",
       "      <td>0.367059</td>\n",
       "      <td>0.345401</td>\n",
       "      <td>1.000000</td>\n",
       "      <td>0.337641</td>\n",
       "    </tr>\n",
       "    <tr>\n",
       "      <th>doc_4</th>\n",
       "      <td>0.498026</td>\n",
       "      <td>0.636750</td>\n",
       "      <td>0.337641</td>\n",
       "      <td>1.000000</td>\n",
       "    </tr>\n",
       "  </tbody>\n",
       "</table>\n",
       "</div>"
      ],
      "text/plain": [
       "           doc1      doc2      doc3      doc4\n",
       "doc_1  1.000000  0.393119  0.367059  0.498026\n",
       "doc_2  0.393119  1.000000  0.345401  0.636750\n",
       "doc_3  0.367059  0.345401  1.000000  0.337641\n",
       "doc_4  0.498026  0.636750  0.337641  1.000000"
      ]
     },
     "execution_count": 21,
     "metadata": {},
     "output_type": "execute_result"
    }
   ],
   "source": [
    "cosine_similarity_matrix = cosine_similarity(vector_matrix)\n",
    "df = create_dataframe(cosine_similarity_matrix,column_name)\n",
    "df"
   ]
  },
  {
   "cell_type": "code",
   "execution_count": 22,
   "id": "21cf601e",
   "metadata": {},
   "outputs": [],
   "source": [
    "def color(value):\n",
    "\n",
    "  if value > 0.70:\n",
    "    color = 'red'\n",
    "  elif value < .40:\n",
    "    color = 'green'\n",
    "  else:\n",
    "    color = 'grey'\n",
    "\n",
    "  return 'color: %s' %color"
   ]
  },
  {
   "cell_type": "code",
   "execution_count": 23,
   "id": "114a4ba3",
   "metadata": {},
   "outputs": [
    {
     "data": {
      "text/html": [
       "<style  type=\"text/css\" >\n",
       "#T_70503_row0_col0,#T_70503_row1_col1,#T_70503_row2_col2,#T_70503_row3_col3{\n",
       "            color:  red;\n",
       "        }#T_70503_row0_col1,#T_70503_row0_col2,#T_70503_row1_col0,#T_70503_row1_col2,#T_70503_row2_col0,#T_70503_row2_col1,#T_70503_row2_col3,#T_70503_row3_col2{\n",
       "            color:  green;\n",
       "        }#T_70503_row0_col3,#T_70503_row1_col3,#T_70503_row3_col0,#T_70503_row3_col1{\n",
       "            color:  grey;\n",
       "        }</style><table id=\"T_70503_\" ><thead>    <tr>        <th class=\"blank level0\" ></th>        <th class=\"col_heading level0 col0\" >doc1</th>        <th class=\"col_heading level0 col1\" >doc2</th>        <th class=\"col_heading level0 col2\" >doc3</th>        <th class=\"col_heading level0 col3\" >doc4</th>    </tr></thead><tbody>\n",
       "                <tr>\n",
       "                        <th id=\"T_70503_level0_row0\" class=\"row_heading level0 row0\" >doc_1</th>\n",
       "                        <td id=\"T_70503_row0_col0\" class=\"data row0 col0\" >1.000000</td>\n",
       "                        <td id=\"T_70503_row0_col1\" class=\"data row0 col1\" >0.393119</td>\n",
       "                        <td id=\"T_70503_row0_col2\" class=\"data row0 col2\" >0.367059</td>\n",
       "                        <td id=\"T_70503_row0_col3\" class=\"data row0 col3\" >0.498026</td>\n",
       "            </tr>\n",
       "            <tr>\n",
       "                        <th id=\"T_70503_level0_row1\" class=\"row_heading level0 row1\" >doc_2</th>\n",
       "                        <td id=\"T_70503_row1_col0\" class=\"data row1 col0\" >0.393119</td>\n",
       "                        <td id=\"T_70503_row1_col1\" class=\"data row1 col1\" >1.000000</td>\n",
       "                        <td id=\"T_70503_row1_col2\" class=\"data row1 col2\" >0.345401</td>\n",
       "                        <td id=\"T_70503_row1_col3\" class=\"data row1 col3\" >0.636750</td>\n",
       "            </tr>\n",
       "            <tr>\n",
       "                        <th id=\"T_70503_level0_row2\" class=\"row_heading level0 row2\" >doc_3</th>\n",
       "                        <td id=\"T_70503_row2_col0\" class=\"data row2 col0\" >0.367059</td>\n",
       "                        <td id=\"T_70503_row2_col1\" class=\"data row2 col1\" >0.345401</td>\n",
       "                        <td id=\"T_70503_row2_col2\" class=\"data row2 col2\" >1.000000</td>\n",
       "                        <td id=\"T_70503_row2_col3\" class=\"data row2 col3\" >0.337641</td>\n",
       "            </tr>\n",
       "            <tr>\n",
       "                        <th id=\"T_70503_level0_row3\" class=\"row_heading level0 row3\" >doc_4</th>\n",
       "                        <td id=\"T_70503_row3_col0\" class=\"data row3 col0\" >0.498026</td>\n",
       "                        <td id=\"T_70503_row3_col1\" class=\"data row3 col1\" >0.636750</td>\n",
       "                        <td id=\"T_70503_row3_col2\" class=\"data row3 col2\" >0.337641</td>\n",
       "                        <td id=\"T_70503_row3_col3\" class=\"data row3 col3\" >1.000000</td>\n",
       "            </tr>\n",
       "    </tbody></table>"
      ],
      "text/plain": [
       "<pandas.io.formats.style.Styler at 0x1cf4845a0d0>"
      ]
     },
     "execution_count": 23,
     "metadata": {},
     "output_type": "execute_result"
    }
   ],
   "source": [
    "df.style.applymap(color,subset=df.columns)"
   ]
  },
  {
   "cell_type": "code",
   "execution_count": null,
   "id": "a59e8918",
   "metadata": {},
   "outputs": [],
   "source": []
  },
  {
   "cell_type": "code",
   "execution_count": null,
   "id": "58bdbf9e",
   "metadata": {},
   "outputs": [],
   "source": []
  }
 ],
 "metadata": {
  "kernelspec": {
   "display_name": "Python 3",
   "language": "python",
   "name": "python3"
  },
  "language_info": {
   "codemirror_mode": {
    "name": "ipython",
    "version": 3
   },
   "file_extension": ".py",
   "mimetype": "text/x-python",
   "name": "python",
   "nbconvert_exporter": "python",
   "pygments_lexer": "ipython3",
   "version": "3.8.8"
  }
 },
 "nbformat": 4,
 "nbformat_minor": 5
}
